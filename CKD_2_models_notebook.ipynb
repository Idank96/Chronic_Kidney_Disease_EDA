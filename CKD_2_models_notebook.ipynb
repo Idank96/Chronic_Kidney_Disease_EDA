{
 "cells": [
  {
   "cell_type": "markdown",
   "source": [
    "# Imports"
   ],
   "metadata": {
    "collapsed": false
   }
  },
  {
   "cell_type": "code",
   "execution_count": null,
   "outputs": [],
   "source": [
    "from sklearn.preprocessing import StandardScaler, KBinsDiscretizer, MinMaxScaler\n",
    "from sklearn.feature_selection import SelectKBest, f_classif\n",
    "from sklearn.model_selection import train_test_split, KFold\n",
    "from sklearn.ensemble import RandomForestClassifier\n",
    "from sklearn.metrics import classification_report\n",
    "from sklearn.model_selection import GridSearchCV\n",
    "from sklearn.ensemble import AdaBoostClassifier\n",
    "from sklearn.metrics import confusion_matrix\n",
    "from sklearn.metrics import roc_auc_score\n",
    "from sklearn.impute import SimpleImputer\n",
    "from sklearn.metrics import roc_curve\n",
    "from sklearn.decomposition import PCA\n",
    "from sklearn.impute import KNNImputer\n",
    "import matplotlib.pyplot as plt\n",
    "import pandas as pd\n",
    "import numpy as np\n",
    "import tabulate\n",
    "\n",
    "import warnings\n",
    "warnings.filterwarnings(action='ignore')"
   ],
   "metadata": {
    "collapsed": false,
    "is_executing": true
   }
  },
  {
   "cell_type": "markdown",
   "source": [
    "# Load Data"
   ],
   "metadata": {
    "collapsed": false
   }
  },
  {
   "cell_type": "code",
   "execution_count": 2,
   "outputs": [],
   "source": [
    "filepath = r'C:\\Idan\\OpenU\\כריית מידע\\mmn21\\Chronic_Kidney_Disease\\Chronic_Kidney_Disease\\chronic_kidney_disease_full.arff'\n",
    "data = []\n",
    "with open(filepath, \"r\") as f:\n",
    "    data = [line.strip().split(',') for line in f]\n",
    "\n",
    "columns = ['age', 'bp', 'sg', 'al', 'su', 'rbc', 'pc', 'pcc', 'ba', 'bgr',\n",
    "           'bu', 'sc', 'sod', 'pot', 'hemo', 'pcv', 'wc', 'rc', 'htn', 'dm',\n",
    "           'cad', 'appet', 'pe', 'ane', 'class', 'to_delete']\n",
    "# Data starts from 145 and end 2 lines before the end\n",
    "ckd_df = pd.DataFrame(data[145:-2], columns=columns)\n",
    "# drop 'to_delete' column\n",
    "ckd_df = ckd_df.drop(['to_delete'] ,axis=1)"
   ],
   "metadata": {
    "collapsed": false,
    "ExecuteTime": {
     "end_time": "2023-05-06T21:16:34.312119800Z",
     "start_time": "2023-05-06T21:16:34.299014200Z"
    }
   }
  },
  {
   "cell_type": "markdown",
   "source": [
    "# Data Preparing"
   ],
   "metadata": {
    "collapsed": false
   }
  },
  {
   "cell_type": "code",
   "execution_count": 3,
   "outputs": [],
   "source": [
    "# Separate categorical and numeric columns\n",
    "numeric_columns = ['age', 'bp', 'sg', 'al', 'su', 'bgr', 'bu', 'sc', 'sod', 'pot', 'hemo', 'pcv', 'wc', 'rc']\n",
    "categorical_columns = ['rbc', 'pc', 'pcc', 'ba', 'htn', 'dm', 'cad', 'appet', 'pe', 'ane', 'class']\n",
    "\n",
    "# Replace missing values with nan\n",
    "ckd_df = ckd_df.replace({'?': np.nan,\n",
    "                         'yes': 1, 'no': 0,\n",
    "                         'ckd': 1, 'notckd': 0,\n",
    "                         'good': 1, 'poor': 0,\n",
    "                         'normal': 1, 'abnormal': 0,\n",
    "                         'present': 1, 'notpresent': 0,\n",
    "                         '' : np.nan})\n",
    "\n",
    "# delete rows with more than 9 missing values (remove 11 rows)\n",
    "ckd_df = ckd_df.dropna(thresh=9)\n",
    "\n",
    "# Convert Numeric columns to numeric\n",
    "ckd_df[numeric_columns] = ckd_df[numeric_columns].apply(pd.to_numeric)\n",
    "# Convert categorical columns to category\n",
    "ckd_df[categorical_columns] = ckd_df[categorical_columns].apply(lambda x: x.astype('category'))\n",
    "\n",
    "# splitting the dataset to X and y\n",
    "X = ckd_df.drop(['class'], axis=1)\n",
    "y = ckd_df['class']\n",
    "\n",
    "# remove 'class' from categorical columns\n",
    "categorical_columns.remove('class')\n",
    "\n",
    "# After view the Q-Q plot, we can see that there are some outliers in the data\n",
    "# Remove outliers rows of each feature of numeric columns.\n",
    "# After it, Use KnnImputer to reassign them again\n",
    "X.loc[X['bp'] >= 180, 'bp'] = np.nan\n",
    "X.loc[X['bu'] > 241, 'bu'] = np.nan\n",
    "X.loc[X['sc'] >= 20, 'sc'] = np.nan\n",
    "X.loc[X['sc'] >= 100, 'sod'] = np.nan\n",
    "X.loc[X['sod'] > 150, 'sod'] = np.nan\n",
    "X.loc[X['sod'] <= 104, 'sod'] = np.nan\n",
    "X.loc[X['wc'] >= 16_700, 'wc'] = np.nan\n",
    "X.loc[X['bgr'] < 70, 'bgr'] = np.nan"
   ],
   "metadata": {
    "collapsed": false,
    "ExecuteTime": {
     "end_time": "2023-05-06T21:16:34.383636Z",
     "start_time": "2023-05-06T21:16:34.334037200Z"
    }
   }
  },
  {
   "cell_type": "code",
   "execution_count": 5,
   "outputs": [],
   "source": [
    "# Split the data to train and test\n",
    "X_train, X_test, y_train, y_test = train_test_split(X, y, test_size=0.2, random_state=42)\n"
   ],
   "metadata": {
    "collapsed": false,
    "ExecuteTime": {
     "end_time": "2023-05-06T21:16:38.152719500Z",
     "start_time": "2023-05-06T21:16:38.139964Z"
    }
   }
  },
  {
   "cell_type": "markdown",
   "source": [
    "# Data Preprocessing"
   ],
   "metadata": {
    "collapsed": false
   }
  },
  {
   "cell_type": "code",
   "execution_count": 6,
   "outputs": [],
   "source": [
    "# Use StandardScaler on numeric columns to scale them to be in the range of 0-1\n",
    "scaler = StandardScaler()\n",
    "X_train[numeric_columns] = scaler.fit_transform(X_train[numeric_columns])\n",
    "X_test[numeric_columns] = scaler.transform(X_test[numeric_columns])\n",
    "\n",
    "# Use MinMaxScaler on numeric columns for mean and standard deviation normalization to mean=0 and std=1\n",
    "scaler = MinMaxScaler()\n",
    "X_train[numeric_columns] = scaler.fit_transform(X_train[numeric_columns])\n",
    "X_test[numeric_columns] = scaler.transform(X_test[numeric_columns])\n",
    "\n",
    "# Impute missing values of numeric columns with KNNImputer\n",
    "knn_imputer = KNNImputer(n_neighbors=5)\n",
    "X_train[numeric_columns] = knn_imputer.fit_transform(X_train[numeric_columns])\n",
    "X_test[numeric_columns] = knn_imputer.transform(X_test[numeric_columns])\n",
    "\n",
    "# Use SimpleImputer to impute missing categorical features\n",
    "simple_imputer = SimpleImputer(strategy='most_frequent')\n",
    "X_train[categorical_columns] = simple_imputer.fit_transform(X_train[categorical_columns])\n",
    "X_test[categorical_columns] = simple_imputer.transform(X_test[categorical_columns])\n",
    "\n",
    "# KBinsDiscretizer Explanation:\n",
    "# Bin continuous data into intervals and transform them with ordinal encoding. (it's a Combination of binning and encoding)\n",
    "# Parameters:\n",
    "#            n_bins: The number of bins to produce.\n",
    "#            encode='ordinal': Encode the transformed result with values between 0 and n_bins-1.\n",
    "#            strategy='quantile': Equal depth binning. The quantile strategy produces bins that have the same number of records in each bin.\n",
    "#            strategy='uniform': Equal width binning. The width of each bin is (max - min) / n_bins.\n",
    "# Binning age column to 5 equal-depth bins\n",
    "k_bins_discretizer = KBinsDiscretizer(n_bins=5, encode='ordinal', strategy='quantile')\n",
    "X_train['age'] = k_bins_discretizer.fit_transform(X_train[['age']])\n",
    "X_test['age'] = k_bins_discretizer.transform(X_test[['age']])\n",
    "# Binning numeric columns 3 bins with equal width\n",
    "binning_columns_with_a_lot_of_values = ['bp', 'sg', 'al', 'su', 'bgr', 'bu', 'sc', 'sod', 'pot', 'hemo', 'pcv', 'wc', 'rc']\n",
    "k_bins_discretizer = KBinsDiscretizer(n_bins=3, encode='ordinal', strategy='uniform')\n",
    "for col in binning_columns_with_a_lot_of_values:\n",
    "    X_train[col] = k_bins_discretizer.fit_transform(X_train[[col]])\n",
    "    X_test[col] = k_bins_discretizer.transform(X_test[[col]])\n",
    "\n",
    "# Convert numeric columns to category\n",
    "X_train[numeric_columns] = X_train[numeric_columns].apply(lambda x: x.astype('category'))\n",
    "X_test[numeric_columns] = X_test[numeric_columns].apply(lambda x: x.astype('category'))\n",
    "\n",
    "# Select K best features (score_func options are: f_classif, mutual_info_classif, chi2, f_regression, mutual_info_regression)\n",
    "k_best = SelectKBest(k=15, score_func=f_classif)\n",
    "X_train = k_best.fit_transform(X_train, y_train)\n",
    "X_test = k_best.transform(X_test)"
   ],
   "metadata": {
    "collapsed": false,
    "ExecuteTime": {
     "end_time": "2023-05-06T21:16:38.428466600Z",
     "start_time": "2023-05-06T21:16:38.163474800Z"
    }
   }
  },
  {
   "cell_type": "markdown",
   "source": [
    "# Grid Search for best parameters for Random Forest Classifier and AdaBoost Classifier"
   ],
   "metadata": {
    "collapsed": false
   }
  },
  {
   "cell_type": "code",
   "execution_count": 7,
   "outputs": [],
   "source": [
    "# Use grid_search to find the best parameters for random forest classifier\n",
    "# import multiprocessing\n",
    "# n_jobs = multiprocessing.cpu_count()\n",
    "# print(f'Number of CPUs: {n_jobs}')\n",
    "# rfc = RandomForestClassifier(random_state=1)\n",
    "# param_grid = {'n_estimators': [80, 100, 200],\n",
    "#               'min_samples_split': [2, 3, 4],\n",
    "#               'max_depth': [3, 4, 5, 6, 7, 8],\n",
    "#               'criterion': ['gini'],\n",
    "#               'max_features': ['sqrt', 'log2']}\n",
    "#\n",
    "# grid_search = GridSearchCV(rfc, param_grid, cv=10, scoring='accuracy', verbose=n_jobs-1)\n",
    "# grid_search.fit(X_train, y_train)\n",
    "# print(param_grid)\n",
    "# print(f'Best parameters: {grid_search.best_params_}')\n",
    "# print(f'Best score: {grid_search.best_score_}')\n",
    "\n",
    "# Use grid_search to find the best parameters for AdaBoost classifier\n",
    "# model = AdaBoostClassifier(random_state=1)\n",
    "# grid = {\n",
    "#     'n_estimators': [500, 1000, 2000, 5000],\n",
    "#     'learning_rate': [0.0001, 0.001, 0.01, 0.1, 1.0]\n",
    "# }\n",
    "# grid_search = GridSearchCV(estimator=model,\n",
    "#                            param_grid=grid,\n",
    "#                            cv=10,\n",
    "#                            scoring='accuracy',\n",
    "#                            verbose=5)\n",
    "# print('Fit the grid search model...')\n",
    "# grid_result = grid_search.fit(X_train, y_train)\n",
    "# print(f\"Best: {grid_result.best_score_} using {grid_result.best_params_}\")"
   ],
   "metadata": {
    "collapsed": false,
    "ExecuteTime": {
     "end_time": "2023-05-06T21:16:38.436882800Z",
     "start_time": "2023-05-06T21:16:38.432723800Z"
    }
   }
  },
  {
   "cell_type": "markdown",
   "source": [
    "##  Define functions for later"
   ],
   "metadata": {
    "collapsed": false
   }
  },
  {
   "cell_type": "code",
   "execution_count": 8,
   "outputs": [],
   "source": [
    "# Define a function to calculate the Mean Squared Error\n",
    "def mean_squared_error(y_true, y_pred):\n",
    "    # convert y_true to numeric type\n",
    "    y_true = y_true.astype(np.float64)\n",
    "    return np.mean((y_true - y_pred) ** 2)\n",
    "\n",
    "# Define a function to display the ROC curve and calculate the AUC score\n",
    "def plot_roc_curve(y_pred_proba_train, y_pred_proba_test, y_train, y_test, model_name):\n",
    "    # Calculate ROC curves and AUC scores for both training and test sets\n",
    "    # y_pred_proba_train = rfc_model.predict_proba(X_train)[:, 1]\n",
    "    fpr_train, tpr_train, _ = roc_curve(y_train, y_pred_proba_train)\n",
    "    auc_train = roc_auc_score(y_train, y_pred_proba_train)\n",
    "\n",
    "    # y_pred_proba_test = rfc_model.predict_proba(X_test)[:, 1]\n",
    "    fpr_test, tpr_test, _ = roc_curve(y_test, y_pred_proba_test)\n",
    "    auc_test = roc_auc_score(y_test, y_pred_proba_test)\n",
    "\n",
    "    # Plot the ROC curves for both training and test sets\n",
    "    plt.plot(fpr_train, tpr_train, label=f\"Training set, auc={auc_train}\")\n",
    "    plt.plot(fpr_test, tpr_test, label=f\"Test set, auc={auc_test}\")\n",
    "    plt.plot([0, 1], [0, 1], linestyle='--', color='gray', label='Random classifier')\n",
    "    # Title\n",
    "    plt.title(f'ROC Curve of {model_name}')\n",
    "    plt.xlabel('False Positive Rate')\n",
    "    plt.ylabel('True Positive Rate')\n",
    "    plt.legend()\n",
    "    plt.show()\n"
   ],
   "metadata": {
    "collapsed": false,
    "ExecuteTime": {
     "end_time": "2023-05-06T21:16:38.450927900Z",
     "start_time": "2023-05-06T21:16:38.439884200Z"
    }
   }
  },
  {
   "cell_type": "markdown",
   "source": [
    "# 1. Random Forest Classifier"
   ],
   "metadata": {
    "collapsed": false
   }
  },
  {
   "cell_type": "code",
   "execution_count": 9,
   "outputs": [],
   "source": [
    "# Define the best parameters for Random Forest Classifier\n",
    "random_forest_best_params = {'criterion': 'gini', 'max_depth': 5, 'max_features': 'sqrt', 'min_samples_split': 2, 'n_estimators': 80}\n",
    "# Initialize the Random Forest Classifier\n",
    "rfc_model = RandomForestClassifier(**random_forest_best_params, random_state=42)"
   ],
   "metadata": {
    "collapsed": false,
    "ExecuteTime": {
     "end_time": "2023-05-06T21:16:38.481479500Z",
     "start_time": "2023-05-06T21:16:38.455929900Z"
    }
   }
  },
  {
   "cell_type": "markdown",
   "source": [
    "## 1.1. Random Forest Classifier - 10-Fold cross validation"
   ],
   "metadata": {
    "collapsed": false
   }
  },
  {
   "cell_type": "code",
   "execution_count": 10,
   "outputs": [
    {
     "name": "stdout",
     "output_type": "stream",
     "text": [
      "Random Forest Classifier 10-Cross Validation Results:\n",
      "+--------+----------------+---------------+\n",
      "|   Fold |   Train scores |   Test scores |\n",
      "|--------+----------------+---------------|\n",
      "|      1 |       0.989583 |       1       |\n",
      "|      2 |       0.989583 |       1       |\n",
      "|      3 |       0.989583 |       1       |\n",
      "|      4 |       0.989583 |       1       |\n",
      "|      5 |       0.989583 |       1       |\n",
      "|      6 |       0.996528 |       0.9375  |\n",
      "|      7 |       0.989583 |       1       |\n",
      "|      8 |       0.996528 |       0.96875 |\n",
      "|      9 |       0.989583 |       1       |\n",
      "|     10 |       0.993056 |       1       |\n",
      "+--------+----------------+---------------+\n",
      "Mean train score: 0.9913194444444444\n",
      "Mean test score: 0.990625\n",
      "Confusion Matrix:\n",
      "+-----------------+----------------------+----------------------+\n",
      "|                 |   Predicted Positive |   Predicted Negative |\n",
      "|-----------------+----------------------+----------------------|\n",
      "| Actual Positive |                  121 |                    2 |\n",
      "| Actual Negative |                    1 |                  196 |\n",
      "+-----------------+----------------------+----------------------+\n",
      "Classification Report of all folds:\n",
      "              precision    recall  f1-score   support\n",
      "\n",
      "           0       0.98      0.99      0.99       122\n",
      "           1       0.99      0.99      0.99       198\n",
      "\n",
      "    accuracy                           0.99       320\n",
      "   macro avg       0.99      0.99      0.99       320\n",
      "weighted avg       0.99      0.99      0.99       320\n",
      "\n"
     ]
    }
   ],
   "source": [
    "# Perform cross validation with 10 folds.\n",
    "# Using a loop and not automatic function because I want to append the scores to few lists and display details of each fold\n",
    "rfc_k_fold = KFold(n_splits=10, shuffle=True, random_state=42)\n",
    "rfc_k_fold.get_n_splits(X_train)\n",
    "folds_y_tests, predictions_of_all_folds = [], []\n",
    "train_scores, test_scores = [], []\n",
    "confusion_matrix_list = []\n",
    "for train_index, test_index in rfc_k_fold.split(X_train):\n",
    "    # Define the train and test sets for each fold\n",
    "    X_train_k_fold, X_test_k_fold = X_train[train_index], X_train[test_index]\n",
    "    y_train_k_fold, y_test_k_fold = y_train.iloc[train_index], y_train.iloc[test_index]\n",
    "    # Fit the model and predict of current fold\n",
    "    rfc_model.fit(X_train_k_fold, y_train_k_fold)\n",
    "    # Calculate the scores on test set\n",
    "    y_pred = rfc_model.predict(X_test_k_fold)\n",
    "    # Append the y_test and y_pred to the lists for the classification report\n",
    "    folds_y_tests.extend(y_test_k_fold)\n",
    "    predictions_of_all_folds.extend(y_pred)\n",
    "    # Append the scores to the lists\n",
    "    train_scores.append(rfc_model.score(X_train_k_fold, y_train_k_fold))\n",
    "    test_scores.append(rfc_model.score(X_test_k_fold, y_test_k_fold))\n",
    "    confusion_matrix_list.append(confusion_matrix(y_test_k_fold, y_pred))\n",
    "\n",
    "print('Random Forest Classifier 10-Cross Validation Results:')\n",
    "# print the train and test scores with a column of the number of fold\n",
    "print(tabulate.tabulate({'Fold': range(1, 11),\n",
    "                         'Train scores': train_scores,\n",
    "                         'Test scores': test_scores}, headers='keys', tablefmt='psql'))\n",
    "\n",
    "# Print the mean of the train and test scores\n",
    "print(f'Mean train score: {np.mean(train_scores)}')\n",
    "print(f'Mean test score: {np.mean(test_scores)}')\n",
    "\n",
    "# Sum all the confusion matrices from the cross validation\n",
    "confusion_matrix_sum = np.sum(confusion_matrix_list, axis=0)\n",
    "\n",
    "# Print the confusion matrix with tabulate\n",
    "print('Confusion Matrix:')\n",
    "print(tabulate.tabulate({'': ['Actual Positive', 'Actual Negative'],\n",
    "                            'Predicted Positive': [confusion_matrix_sum[0][0], confusion_matrix_sum[0][1]],\n",
    "                            'Predicted Negative': [confusion_matrix_sum[1][0], confusion_matrix_sum[1][1]]},\n",
    "                            headers='keys',\n",
    "                            tablefmt='psql'))\n",
    "\n",
    "# Print the classification report for the sum of the folds predictions\n",
    "print('Classification Report of all folds:')\n",
    "print(classification_report(folds_y_tests, predictions_of_all_folds))"
   ],
   "metadata": {
    "collapsed": false,
    "ExecuteTime": {
     "end_time": "2023-05-06T21:16:40.682273100Z",
     "start_time": "2023-05-06T21:16:38.475466600Z"
    }
   }
  },
  {
   "cell_type": "markdown",
   "source": [
    "## 1.2. Random Forest Classifier - Predict the test set"
   ],
   "metadata": {
    "collapsed": false
   }
  },
  {
   "cell_type": "code",
   "execution_count": 11,
   "outputs": [
    {
     "data": {
      "text/plain": "<Figure size 640x480 with 1 Axes>",
      "image/png": "[encoded data removed]"
     },
     "metadata": {},
     "output_type": "display_data"
    },
    {
     "name": "stdout",
     "output_type": "stream",
     "text": [
      "Mean Squared Error: 0.025\n",
      "Test score: 0.975\n"
     ]
    }
   ],
   "source": [
    "from sklearn.metrics import accuracy_score\n",
    "\n",
    "# Fit the model on the train set to evaluate the model on the test set (not cross validation)\n",
    "rfc_model.fit(X_train, y_train)\n",
    "# Display the ROC curve of the Random Forest Classifier for comparing between the train and test sets\n",
    "# predict_proba returns an array with 2 columns:\n",
    "# the first is the probability of the negative class\n",
    "# the second is the probability of the positive class\n",
    "y_pred_proba_train = rfc_model.predict_proba(X_train)[:, 1]\n",
    "y_pred_proba_test = rfc_model.predict_proba(X_test)[:, 1]\n",
    "plot_roc_curve(y_pred_proba_train, y_pred_proba_test, y_train, y_test, 'Random Forest Classifier')\n",
    "\n",
    "# Predict the test set\n",
    "y_pred = rfc_model.predict(X_test)\n",
    "# Calculate and print the Mean Squared Error of the cross validation\n",
    "mse_rfc = mean_squared_error(y_test, y_pred)\n",
    "print(f'Mean Squared Error: {mse_rfc}')\n",
    "\n",
    "# print test score of the test set (not cross validation)\n",
    "print(f'Test score: {rfc_model.score(X_test, y_test)}')"
   ],
   "metadata": {
    "collapsed": false,
    "ExecuteTime": {
     "end_time": "2023-05-06T21:16:41.358065Z",
     "start_time": "2023-05-06T21:16:40.686273400Z"
    }
   }
  },
  {
   "cell_type": "markdown",
   "source": [
    "# 2. AdaBoost Classifier"
   ],
   "metadata": {
    "collapsed": false
   }
  },
  {
   "cell_type": "code",
   "execution_count": 12,
   "outputs": [],
   "source": [
    "# Define the best parameters for AdaBoost Classifier\n",
    "ada_boost_best_params = {'learning_rate': 0.001, 'n_estimators': 25} # was 0.001, 2000\n",
    "# Initialize the AdaBoost Classifier\n",
    "ada_boost_model = AdaBoostClassifier(**ada_boost_best_params, random_state=42)"
   ],
   "metadata": {
    "collapsed": false,
    "ExecuteTime": {
     "end_time": "2023-05-06T21:16:41.359064900Z",
     "start_time": "2023-05-06T21:16:41.250371900Z"
    }
   }
  },
  {
   "cell_type": "markdown",
   "source": [
    "# 2.1. AdaBoost Classifier - 10-Fold cross validation"
   ],
   "metadata": {
    "collapsed": false
   }
  },
  {
   "cell_type": "code",
   "execution_count": 13,
   "outputs": [
    {
     "name": "stdout",
     "output_type": "stream",
     "text": [
      "AdaBoost 10-Cross Validation Results:\n",
      "+--------+----------------+---------------+\n",
      "|   Fold |   Train scores |   Test scores |\n",
      "|--------+----------------+---------------|\n",
      "|      1 |       0.982639 |       1       |\n",
      "|      2 |       0.982639 |       1       |\n",
      "|      3 |       0.986111 |       0.96875 |\n",
      "|      4 |       0.982639 |       1       |\n",
      "|      5 |       0.982639 |       1       |\n",
      "|      6 |       0.989583 |       0.9375  |\n",
      "|      7 |       0.913194 |       0.875   |\n",
      "|      8 |       0.986111 |       0.96875 |\n",
      "|      9 |       0.982639 |       1       |\n",
      "|     10 |       0.986111 |       0.96875 |\n",
      "+--------+----------------+---------------+\n",
      "Mean train score: 0.9774305555555556\n",
      "Mean test score: 0.971875\n",
      "Confusion Matrix:\n",
      "+-----------------+----------------------+----------------------+\n",
      "|                 |   Predicted Positive |   Predicted Negative |\n",
      "|-----------------+----------------------+----------------------|\n",
      "| Actual Positive |                  121 |                    8 |\n",
      "| Actual Negative |                    1 |                  190 |\n",
      "+-----------------+----------------------+----------------------+\n",
      "Classification Report of all folds:\n",
      "              precision    recall  f1-score   support\n",
      "\n",
      "           0       0.94      0.99      0.96       122\n",
      "           1       0.99      0.96      0.98       198\n",
      "\n",
      "    accuracy                           0.97       320\n",
      "   macro avg       0.97      0.98      0.97       320\n",
      "weighted avg       0.97      0.97      0.97       320\n",
      "\n"
     ]
    }
   ],
   "source": [
    "# Perform cross validation with 10 folds with sklearn class\n",
    "ada_boost_k_fold = KFold(n_splits=10, shuffle=True, random_state=42)\n",
    "ada_boost_k_fold.get_n_splits(X_train)\n",
    "folds_y_tests, predictions_of_all_folds = [], []\n",
    "train_scores, test_scores = [], []\n",
    "confusion_matrix_list = []\n",
    "for train_index, test_index in ada_boost_k_fold.split(X_train):\n",
    "    # Define the train and test sets for each fold\n",
    "    X_train_k_fold, X_test_k_fold = X_train[train_index], X_train[test_index]\n",
    "    y_train_k_fold, y_test_k_fold = y_train.iloc[train_index], y_train.iloc[test_index]\n",
    "    # Fit the model and predict of current fold\n",
    "    ada_boost_model.fit(X_train_k_fold, y_train_k_fold)\n",
    "    # Calculate the scores on test set\n",
    "    y_pred = ada_boost_model.predict(X_test_k_fold)\n",
    "    # Append the y_test and y_pred to the lists for the classification report\n",
    "    folds_y_tests.extend(y_test_k_fold)\n",
    "    predictions_of_all_folds.extend(y_pred)\n",
    "    # Append the scores to the lists\n",
    "    train_scores.append(ada_boost_model.score(X_train_k_fold, y_train_k_fold))\n",
    "    test_scores.append(ada_boost_model.score(X_test_k_fold, y_test_k_fold))\n",
    "    confusion_matrix_list.append(confusion_matrix(y_test_k_fold, y_pred))\n",
    "\n",
    "\n",
    "print('AdaBoost 10-Cross Validation Results:')\n",
    "# print the train and test scores with a column of the number of fold\n",
    "print(tabulate.tabulate({'Fold': range(1, 11),\n",
    "                         'Train scores': train_scores,\n",
    "                         'Test scores': test_scores}, headers='keys', tablefmt='psql'))\n",
    "\n",
    "# Print the mean of the train and test scores\n",
    "\n",
    "# Print the mean of the train and test scores\n",
    "print(f'Mean train score: {np.mean(train_scores)}')\n",
    "print(f'Mean test score: {np.mean(test_scores)}')\n",
    "\n",
    "# Sum all the confusion matrices from the cross validation\n",
    "confusion_matrix_sum = np.sum(confusion_matrix_list, axis=0)\n",
    "\n",
    "# Print the confusion matrix with tabulate\n",
    "print('Confusion Matrix:')\n",
    "print(tabulate.tabulate({'': ['Actual Positive', 'Actual Negative'],\n",
    "                            'Predicted Positive': [confusion_matrix_sum[0][0], confusion_matrix_sum[0][1]],\n",
    "                            'Predicted Negative': [confusion_matrix_sum[1][0], confusion_matrix_sum[1][1]]},\n",
    "                            headers='keys',\n",
    "                            tablefmt='psql'))\n",
    "\n",
    "\n",
    "\n",
    "# Print the classification report for the sum of the folds predictions\n",
    "print('Classification Report of all folds:')\n",
    "print(classification_report(folds_y_tests, predictions_of_all_folds))"
   ],
   "metadata": {
    "collapsed": false,
    "ExecuteTime": {
     "end_time": "2023-05-06T21:16:42.289177300Z",
     "start_time": "2023-05-06T21:16:41.280068800Z"
    }
   }
  },
  {
   "cell_type": "markdown",
   "source": [
    "# 2.2. AdaBoost Classifier - Predict the test set"
   ],
   "metadata": {
    "collapsed": false
   }
  },
  {
   "cell_type": "code",
   "execution_count": 14,
   "outputs": [
    {
     "data": {
      "text/plain": "<Figure size 640x480 with 1 Axes>",
      "image/png": "[encoded data removed]"
     },
     "metadata": {},
     "output_type": "display_data"
    },
    {
     "name": "stdout",
     "output_type": "stream",
     "text": [
      "Mean Squared Error: 0.025\n",
      "Test score: 0.975\n"
     ]
    }
   ],
   "source": [
    "# Display the ROC curve of the AdaBoost Classifier for comparing between the train and test sets\n",
    "ada_boost_model.fit(X_train, y_train)\n",
    "y_pred_proba_train = ada_boost_model.predict_proba(X_train)[:, 1]\n",
    "y_pred_proba_test = ada_boost_model.predict_proba(X_test)[:, 1]\n",
    "plot_roc_curve(y_pred_proba_train, y_pred_proba_test, y_train, y_test, 'AdaBoost Classifier')\n",
    "\n",
    "# Predict the test set\n",
    "y_pred = ada_boost_model.predict(X_test)\n",
    "\n",
    "# Calculate the Mean Squared Error of the cross validation\n",
    "mse_adaboost = mean_squared_error(y_test, y_pred)\n",
    "print(f'Mean Squared Error: {mean_squared_error(y_test, ada_boost_model.predict(X_test))}')\n",
    "\n",
    "# print test score of the test set (not cross validation)\n",
    "print(f'Test score: {ada_boost_model.score(X_test, y_test)}')"
   ],
   "metadata": {
    "collapsed": false,
    "ExecuteTime": {
     "end_time": "2023-05-06T21:16:42.753470900Z",
     "start_time": "2023-05-06T21:16:42.294077300Z"
    }
   }
  },
  {
   "cell_type": "markdown",
   "source": [
    "# 3. Shhhh... don't tell anyone but... Bonus model: Naive Bayes Classifier !"
   ],
   "metadata": {
    "collapsed": false
   }
  },
  {
   "cell_type": "code",
   "execution_count": 15,
   "outputs": [],
   "source": [
    "from sklearn.naive_bayes import GaussianNB"
   ],
   "metadata": {
    "collapsed": false,
    "ExecuteTime": {
     "end_time": "2023-05-06T21:16:42.764739Z",
     "start_time": "2023-05-06T21:16:42.756464300Z"
    }
   }
  },
  {
   "cell_type": "markdown",
   "source": [
    "# Grid Search for the best parameters for Naive Bayes Classifier"
   ],
   "metadata": {
    "collapsed": false
   }
  },
  {
   "cell_type": "code",
   "execution_count": 16,
   "outputs": [],
   "source": [
    "# # Search for the best parameters for Naive Bayes Classifier\n",
    "# nb_classifier = GaussianNB()\n",
    "#\n",
    "# params_NB = {'var_smoothing': np.logspace(0,-9, num=100)}\n",
    "# gs_NB = GridSearchCV(estimator=nb_classifier,\n",
    "#                  param_grid=params_NB,\n",
    "#                  cv=10,\n",
    "#                  verbose=1,\n",
    "#                  scoring='accuracy')\n",
    "# gs_NB.fit(X_train, y_train)\n",
    "# gs_NB.best_params_"
   ],
   "metadata": {
    "collapsed": false,
    "ExecuteTime": {
     "end_time": "2023-05-06T21:16:42.773170900Z",
     "start_time": "2023-05-06T21:16:42.769147100Z"
    }
   }
  },
  {
   "cell_type": "markdown",
   "source": [
    "# 3.1. Naive Bayes Classifier - 10-Fold Cross Validation"
   ],
   "metadata": {
    "collapsed": false
   }
  },
  {
   "cell_type": "code",
   "execution_count": 17,
   "outputs": [
    {
     "name": "stdout",
     "output_type": "stream",
     "text": [
      "Naive Bayes 10-Cross Validation Results:\n",
      "+--------+----------------+---------------+\n",
      "|   Fold |   Train scores |   Test scores |\n",
      "|--------+----------------+---------------|\n",
      "|      1 |       0.996528 |       1       |\n",
      "|      2 |       0.996528 |       1       |\n",
      "|      3 |       0.996528 |       1       |\n",
      "|      4 |       0.996528 |       1       |\n",
      "|      5 |       0.996528 |       1       |\n",
      "|      6 |       1        |       0.96875 |\n",
      "|      7 |       0.996528 |       1       |\n",
      "|      8 |       0.996528 |       1       |\n",
      "|      9 |       0.996528 |       1       |\n",
      "|     10 |       0.996528 |       1       |\n",
      "+--------+----------------+---------------+\n",
      "Mean train score: 0.9968750000000002\n",
      "Mean test score: 0.996875\n",
      "Confusion Matrix:\n",
      "+-----------------+----------------------+----------------------+\n",
      "|                 |   Predicted Positive |   Predicted Negative |\n",
      "|-----------------+----------------------+----------------------|\n",
      "| Actual Positive |                  121 |                    0 |\n",
      "| Actual Negative |                    1 |                  198 |\n",
      "+-----------------+----------------------+----------------------+\n",
      "Classification Report of all folds:\n",
      "              precision    recall  f1-score   support\n",
      "\n",
      "           0       1.00      0.99      1.00       122\n",
      "           1       0.99      1.00      1.00       198\n",
      "\n",
      "    accuracy                           1.00       320\n",
      "   macro avg       1.00      1.00      1.00       320\n",
      "weighted avg       1.00      1.00      1.00       320\n",
      "\n"
     ]
    }
   ],
   "source": [
    "# Initialize the Naive Bayes Classifier\n",
    "naive_bayes_model = GaussianNB(var_smoothing=0.004328761281083057)\n",
    "\n",
    "# Perform cross validation with 10 folds with sklearn class\n",
    "naive_bayes_k_fold = KFold(n_splits=10, shuffle=True, random_state=42)\n",
    "naive_bayes_k_fold.get_n_splits(X_train)\n",
    "folds_y_tests, predictions_of_all_folds = [], []\n",
    "train_scores, test_scores = [], []\n",
    "confusion_matrix_list = []\n",
    "for train_index, test_index in naive_bayes_k_fold.split(X_train):\n",
    "    # Define the train and test sets for each fold\n",
    "    X_train_k_fold, X_test_k_fold = X_train[train_index], X_train[test_index]\n",
    "    y_train_k_fold, y_test_k_fold = y_train.iloc[train_index], y_train.iloc[test_index]\n",
    "    # Fit the model and predict of current fold\n",
    "    naive_bayes_model.fit(X_train_k_fold, y_train_k_fold)\n",
    "    # Calculate the scores on test set\n",
    "    y_pred = naive_bayes_model.predict(X_test_k_fold)\n",
    "    # Append the y_test and y_pred to the lists for the classification report\n",
    "    folds_y_tests.extend(y_test_k_fold)\n",
    "    predictions_of_all_folds.extend(y_pred)\n",
    "    # Append the scores to the lists\n",
    "    train_scores.append(naive_bayes_model.score(X_train_k_fold, y_train_k_fold))\n",
    "    test_scores.append(naive_bayes_model.score(X_test_k_fold, y_test_k_fold))\n",
    "    confusion_matrix_list.append(confusion_matrix(y_test_k_fold, y_pred))\n",
    "\n",
    "# Print the train and test scores with a column of the number of fold\n",
    "print('Naive Bayes 10-Cross Validation Results:')\n",
    "print(tabulate.tabulate({'Fold': range(1, 11),\n",
    "                         'Train scores': train_scores,\n",
    "                         'Test scores': test_scores}, headers='keys', tablefmt='psql'))\n",
    "\n",
    "# Print the mean of the train and test scores\n",
    "print(f'Mean train score: {np.mean(train_scores)}')\n",
    "print(f'Mean test score: {np.mean(test_scores)}')\n",
    "\n",
    "# Sum all the confusion matrices from the cross validation\n",
    "confusion_matrix_sum = np.sum(confusion_matrix_list, axis=0)\n",
    "\n",
    "# Print the confusion matrix with tabulate\n",
    "print('Confusion Matrix:')\n",
    "print(tabulate.tabulate({'': ['Actual Positive', 'Actual Negative'],\n",
    "                            'Predicted Positive': [confusion_matrix_sum[0][0], confusion_matrix_sum[0][1]],\n",
    "                            'Predicted Negative': [confusion_matrix_sum[1][0], confusion_matrix_sum[1][1]]},\n",
    "                            headers='keys',\n",
    "                            tablefmt='psql'))\n",
    "\n",
    "# Print the classification report for the sum of the folds predictions\n",
    "print('Classification Report of all folds:')\n",
    "print(classification_report(folds_y_tests, predictions_of_all_folds))"
   ],
   "metadata": {
    "collapsed": false,
    "ExecuteTime": {
     "end_time": "2023-05-06T21:16:42.938612600Z",
     "start_time": "2023-05-06T21:16:42.788157700Z"
    }
   }
  },
  {
   "cell_type": "markdown",
   "source": [
    "# 3.2. Naive Bayes Classifier - Predict the test set"
   ],
   "metadata": {
    "collapsed": false
   }
  },
  {
   "cell_type": "code",
   "execution_count": 18,
   "outputs": [
    {
     "data": {
      "text/plain": "<Figure size 640x480 with 1 Axes>",
      "image/png": "[encoded data removed]"
     },
     "metadata": {},
     "output_type": "display_data"
    },
    {
     "name": "stdout",
     "output_type": "stream",
     "text": [
      "Mean Squared Error: 0.025\n",
      "Test score: 0.975\n"
     ]
    }
   ],
   "source": [
    "# Display the ROC curve of the Naive Bayes Classifier for comparing between the train and test sets\n",
    "naive_bayes_model.fit(X_train, y_train)\n",
    "y_pred_proba_train = naive_bayes_model.predict_proba(X_train)[:, 1]\n",
    "y_pred_proba_test = naive_bayes_model.predict_proba(X_test)[:, 1]\n",
    "plot_roc_curve(y_pred_proba_train, y_pred_proba_test, y_train, y_test, 'Naive Bayes Classifier')\n",
    "\n",
    "# Predict the test set\n",
    "y_pred = naive_bayes_model.predict(X_test)\n",
    "\n",
    "# Calculate the Mean Squared Error of the cross validation\n",
    "mse_naive_bayes = mean_squared_error(y_test, y_pred)\n",
    "print(f'Mean Squared Error: {mean_squared_error(y_test, naive_bayes_model.predict(X_test))}')\n",
    "\n",
    "# print test score of the test set (not cross validation)\n",
    "print(f'Test score: {naive_bayes_model.score(X_test, y_test)}')"
   ],
   "metadata": {
    "collapsed": false,
    "ExecuteTime": {
     "end_time": "2023-05-06T21:16:43.262189Z",
     "start_time": "2023-05-06T21:16:42.880035700Z"
    }
   }
  },
  {
   "cell_type": "markdown",
   "source": [
    "# 4. Summary of the models"
   ],
   "metadata": {
    "collapsed": false
   }
  },
  {
   "cell_type": "code",
   "execution_count": 19,
   "outputs": [
    {
     "name": "stdout",
     "output_type": "stream",
     "text": [
      "+----+---------------+----------------------+--------------+\n",
      "|    | Model         |   Mean Squared Error |   Test Score |\n",
      "|----+---------------+----------------------+--------------|\n",
      "|  0 | Random Forest |                0.025 |        0.975 |\n",
      "|  1 | AdaBoost      |                0.025 |        0.975 |\n",
      "|  2 | Naive Bayes   |                0.025 |        0.975 |\n",
      "+----+---------------+----------------------+--------------+\n"
     ]
    }
   ],
   "source": [
    "# Create a dataframe of the models and their scores\n",
    "models_df = pd.DataFrame({'Model': ['Random Forest', 'AdaBoost', 'Naive Bayes'],\n",
    "                          'Mean Squared Error': [mse_rfc, mse_adaboost, mse_naive_bayes],\n",
    "                          'Test Score': [rfc_model.score(X_test, y_test), ada_boost_model.score(X_test, y_test), naive_bayes_model.score(X_test, y_test)]})\n",
    "# Print the dataframe\n",
    "print(tabulate.tabulate(models_df, headers='keys', tablefmt='psql'))\n",
    "\n"
   ],
   "metadata": {
    "collapsed": false,
    "ExecuteTime": {
     "end_time": "2023-05-06T21:16:43.420600400Z",
     "start_time": "2023-05-06T21:16:43.258199300Z"
    }
   }
  },
  {
   "cell_type": "markdown",
   "source": [],
   "metadata": {
    "collapsed": false
   }
  }
 ],
 "metadata": {
  "kernelspec": {
   "display_name": "Python 3",
   "language": "python",
   "name": "python3"
  },
  "language_info": {
   "codemirror_mode": {
    "name": "ipython",
    "version": 2
   },
   "file_extension": ".py",
   "mimetype": "text/x-python",
   "name": "python",
   "nbconvert_exporter": "python",
   "pygments_lexer": "ipython2",
   "version": "2.7.6"
  }
 },
 "nbformat": 4,
 "nbformat_minor": 0
}
